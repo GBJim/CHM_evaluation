{
 "cells": [
  {
   "cell_type": "markdown",
   "metadata": {
    "collapsed": true
   },
   "source": [
    "# This is an example of CHM evalution script writen in Jupyter Notebook"
   ]
  },
  {
   "cell_type": "code",
   "execution_count": 1,
   "metadata": {
    "collapsed": false
   },
   "outputs": [],
   "source": [
    "#Import dependent modules\n",
    "\n",
    "import openpyxl\n",
    "import os\n",
    "from datetime import datetime,date"
   ]
  },
  {
   "cell_type": "code",
   "execution_count": 55,
   "metadata": {
    "collapsed": false
   },
   "outputs": [],
   "source": [
    "#Decalre functions\n",
    "\n",
    "#parse the .xlsx report file and transform it into a dictionary structure\n",
    "def parse_report(file_path):\n",
    "    \n",
    "    #find specific columns numbers  \n",
    "    def locate_columns(sheet, targets=[\"Event Type\", \"Timestamp\"], n_row=2):\n",
    "        target_columns = {}\n",
    "        for i in range(1, sheet.max_column+1):\n",
    "            column_name = sheet.cell(row=n_row, column=i).value \n",
    "            if column_name in targets:\n",
    "                target_columns[column_name] = i\n",
    "        return target_columns\n",
    "    \n",
    "    #computer the time difference into seconds, negative vaule is provided\n",
    "    def get_time_diff(time_a, time_b):\n",
    "        date_time_a = datetime.combine(datetime.today(), time_a)\n",
    "        date_time_b = datetime.combine(datetime.today(), time_b)\n",
    "        time_format = '%H:%M:%S'\n",
    "        time_diff = date_time_a - date_time_b\n",
    "        return time_diff.total_seconds()\n",
    "    \n",
    "    \n",
    "    #Load .xlsx file and locate prediction and ground_truth pages\n",
    "    report = openpyxl.load_workbook(file_path)\n",
    "    sheet_names = report.get_sheet_names()\n",
    "    prediction_sheet = report.get_sheet_by_name(sheet_names[2])\n",
    "    truth_sheet = report.get_sheet_by_name(sheet_names[0])\n",
    "    \n",
    "    #locate specfic columns\n",
    "    prediction_columns = locate_columns(prediction_sheet)\n",
    "    truth_columns = locate_columns(truth_sheet)\n",
    "    \n",
    "    #Insert result into the result dictionary\n",
    "    result = {}\n",
    "    for i in range(3,prediction_sheet.max_row + 1):\n",
    "        if prediction_sheet.cell(row = i,column = 1).value is None:\n",
    "            break\n",
    "            \n",
    "        else:\n",
    "            #Compute the time difference\n",
    "            test_time = prediction_sheet.cell(row = i,column = prediction_columns[\"Timestamp\"]).value\n",
    "            gt_time = truth_sheet.cell(row = i,column =  truth_columns[\"Timestamp\"]).value\n",
    "            time_diff = get_time_diff(test_time, gt_time)\n",
    "\n",
    "            file_name = prediction_sheet.cell(row = i,column = 2).value\n",
    "            truth_event = truth_sheet.cell(row = i,column = truth_columns[\"Event Type\"]).value\n",
    "            predicted_event = prediction_sheet.cell(row = i,column = prediction_columns[\"Event Type\"]).value\n",
    "            prediction_id = int(prediction_sheet.cell(row=i, column=1).value)\n",
    "            result[prediction_id] = {\"file_name\":file_name, \"time_diff\":time_diff,\\\n",
    "                                    \"truth\":truth_event,\"prediction\": predicted_event}                                         \n",
    "  \n",
    "                                                \n",
    "    return result"
   ]
  },
  {
   "cell_type": "code",
   "execution_count": 57,
   "metadata": {
    "collapsed": false
   },
   "outputs": [
    {
     "name": "stdout",
     "output_type": "stream",
     "text": [
      "{'file_name': u'ISprayPainting01', 'time_diff': 63.0, 'prediction': u'Blockage (1)', 'truth': u'Spray (2)'}\n",
      "{'file_name': u'ISprayPainting02', 'time_diff': -4.0, 'prediction': u'Defocus (3)', 'truth': u'Spray (2)'}\n"
     ]
    }
   ],
   "source": [
    "# Show case the functionality\n",
    "if __name__ == \"__main__\":\n",
    "    \n",
    "    #parse the the .xlsx file into dictionary\n",
    "    report_path = \"Test.xlsx\"\n",
    "    result = parse_report(report_path)\n",
    "    #show some results\n",
    "    print(result[1])\n",
    "    print(result[2])"
   ]
  },
  {
   "cell_type": "code",
   "execution_count": null,
   "metadata": {
    "collapsed": true
   },
   "outputs": [],
   "source": []
  }
 ],
 "metadata": {
  "kernelspec": {
   "display_name": "Python 2",
   "language": "python",
   "name": "python2"
  },
  "language_info": {
   "codemirror_mode": {
    "name": "ipython",
    "version": 2
   },
   "file_extension": ".py",
   "mimetype": "text/x-python",
   "name": "python",
   "nbconvert_exporter": "python",
   "pygments_lexer": "ipython2",
   "version": "2.7.6"
  }
 },
 "nbformat": 4,
 "nbformat_minor": 0
}
